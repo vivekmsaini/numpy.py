{
 "cells": [
  {
   "cell_type": "code",
   "execution_count": 6,
   "metadata": {},
   "outputs": [
    {
     "name": "stdout",
     "output_type": "stream",
     "text": [
      "numpy imported\n"
     ]
    }
   ],
   "source": [
    "#NUMPY as library used in data science\n",
    "\n",
    "import numpy as np\n",
    "print(\"numpy imported\")"
   ]
  },
  {
   "cell_type": "code",
   "execution_count": 9,
   "metadata": {},
   "outputs": [
    {
     "data": {
      "text/plain": [
       "array([ 25,  14,  36,  78,  46,  98, 758,  79, 665,  55])"
      ]
     },
     "execution_count": 9,
     "metadata": {},
     "output_type": "execute_result"
    }
   ],
   "source": [
    "## Array creation\n",
    "\n",
    "ls = [25,14,36,78,46,98,758,79,665,55]\n",
    "arr = np.array(ls)\n",
    "arr"
   ]
  },
  {
   "cell_type": "code",
   "execution_count": 6,
   "metadata": {},
   "outputs": [
    {
     "data": {
      "text/plain": [
       "numpy.ndarray"
      ]
     },
     "execution_count": 6,
     "metadata": {},
     "output_type": "execute_result"
    }
   ],
   "source": [
    "type(arr)\n",
    "\n",
    "## nd == n dimensional array"
   ]
  },
  {
   "cell_type": "code",
   "execution_count": 7,
   "metadata": {},
   "outputs": [
    {
     "data": {
      "text/plain": [
       "[25, 'upflairs', True, 34.2]"
      ]
     },
     "execution_count": 7,
     "metadata": {},
     "output_type": "execute_result"
    }
   ],
   "source": [
    "#list created simply\n",
    "\n",
    "ls2 = [25,'upflairs',True,34.2]\n",
    "ls2"
   ]
  },
  {
   "cell_type": "code",
   "execution_count": 10,
   "metadata": {},
   "outputs": [
    {
     "data": {
      "text/plain": [
       "array([ 25.  ,  14.  ,  36.  ,  78.  ,  46.  ,  98.  , 758.  ,  79.  ,\n",
       "       665.  ,  55.  , 100.25])"
      ]
     },
     "execution_count": 10,
     "metadata": {},
     "output_type": "execute_result"
    }
   ],
   "source": [
    "#float value in nunpy :- in list if one value is float than whole list written as float value\n",
    "\n",
    "ls = [25,14,36,78,46,98,758,79,665,55,100.25]\n",
    "arr = np.array(ls)\n",
    "arr"
   ]
  },
  {
   "cell_type": "code",
   "execution_count": 11,
   "metadata": {},
   "outputs": [
    {
     "data": {
      "text/plain": [
       "array(['25', '14', '36', '78', '46', '98', '758', '79', '665', '55',\n",
       "       'upflairs'], dtype='<U21')"
      ]
     },
     "execution_count": 11,
     "metadata": {},
     "output_type": "execute_result"
    }
   ],
   "source": [
    "#string value in nunpy :- in list if one value is string than whole list written as string value\n",
    "\n",
    "ls = [25,14,36,78,46,98,758,79,665,55,'upflairs']\n",
    "arr = np.array(ls)\n",
    "arr"
   ]
  },
  {
   "cell_type": "code",
   "execution_count": 7,
   "metadata": {},
   "outputs": [
    {
     "data": {
      "text/plain": [
       "array([ 25,  14,  36,  78,  46,  98, 758,  79, 665,  55])"
      ]
     },
     "execution_count": 7,
     "metadata": {},
     "output_type": "execute_result"
    }
   ],
   "source": [
    "ls = [25,14,36,78,46,98,758,79,665,55]\n",
    "arr = np.array(ls)\n",
    "arr"
   ]
  },
  {
   "cell_type": "code",
   "execution_count": 19,
   "metadata": {},
   "outputs": [
    {
     "data": {
      "text/plain": [
       "10"
      ]
     },
     "execution_count": 19,
     "metadata": {},
     "output_type": "execute_result"
    }
   ],
   "source": [
    "# to count lenght or size in list\n",
    "\n",
    "len(arr)"
   ]
  },
  {
   "cell_type": "code",
   "execution_count": 20,
   "metadata": {},
   "outputs": [
    {
     "data": {
      "text/plain": [
       "10"
      ]
     },
     "execution_count": 20,
     "metadata": {},
     "output_type": "execute_result"
    }
   ],
   "source": [
    "arr.size   # or len(arr)"
   ]
  },
  {
   "cell_type": "code",
   "execution_count": 23,
   "metadata": {},
   "outputs": [
    {
     "data": {
      "text/plain": [
       "dtype('<U21')"
      ]
     },
     "execution_count": 23,
     "metadata": {},
     "output_type": "execute_result"
    }
   ],
   "source": [
    "arr.dtype"
   ]
  },
  {
   "cell_type": "code",
   "execution_count": 27,
   "metadata": {},
   "outputs": [
    {
     "data": {
      "text/plain": [
       "array([ 14,  36,  78,  46,  98, 758,  79, 665,  55])"
      ]
     },
     "execution_count": 27,
     "metadata": {},
     "output_type": "execute_result"
    }
   ],
   "source": [
    "#list startin and stoping point\n",
    "\n",
    "arr[1:]"
   ]
  },
  {
   "cell_type": "code",
   "execution_count": 28,
   "metadata": {},
   "outputs": [
    {
     "data": {
      "text/plain": [
       "array([ 79, 665,  55])"
      ]
     },
     "execution_count": 28,
     "metadata": {},
     "output_type": "execute_result"
    }
   ],
   "source": [
    "arr[7:]"
   ]
  },
  {
   "cell_type": "code",
   "execution_count": 31,
   "metadata": {},
   "outputs": [
    {
     "data": {
      "text/plain": [
       "array([ 79, 665,  55])"
      ]
     },
     "execution_count": 31,
     "metadata": {},
     "output_type": "execute_result"
    }
   ],
   "source": [
    "arr[-3:]"
   ]
  },
  {
   "cell_type": "code",
   "execution_count": 39,
   "metadata": {},
   "outputs": [
    {
     "data": {
      "text/plain": [
       "array([ 55, 665,  79, 758,  98,  46,  78,  36,  14,  25])"
      ]
     },
     "execution_count": 39,
     "metadata": {},
     "output_type": "execute_result"
    }
   ],
   "source": [
    "arr[::-1]"
   ]
  },
  {
   "cell_type": "code",
   "execution_count": 3,
   "metadata": {},
   "outputs": [
    {
     "data": {
      "text/plain": [
       "array([ 1,  2,  3,  4,  5,  6,  7,  8,  9, 10, 11, 12, 13, 14, 15, 16, 17,\n",
       "       18, 19, 20, 21, 22, 23, 24, 25, 26, 27, 28, 29, 30, 31, 32, 33, 34,\n",
       "       35, 36, 37, 38, 39, 40, 41, 42, 43, 44, 45, 46, 47, 48, 49, 50, 51,\n",
       "       52, 53, 54, 55, 56, 57, 58, 59])"
      ]
     },
     "execution_count": 3,
     "metadata": {},
     "output_type": "execute_result"
    }
   ],
   "source": [
    "#list :- arange in descending order by startin and stoping point as in sequntial\n",
    "\n",
    "np.arange(1,60)"
   ]
  },
  {
   "cell_type": "code",
   "execution_count": 4,
   "metadata": {},
   "outputs": [
    {
     "data": {
      "text/plain": [
       "array([ 0,  1,  2,  3,  4,  5,  6,  7,  8,  9, 10, 11, 12, 13, 14, 15, 16,\n",
       "       17, 18, 19, 20, 21, 22, 23, 24, 25, 26, 27, 28, 29, 30, 31, 32, 33,\n",
       "       34, 35, 36, 37, 38, 39, 40, 41, 42, 43, 44, 45, 46, 47, 48, 49, 50,\n",
       "       51, 52, 53, 54, 55, 56, 57, 58, 59])"
      ]
     },
     "execution_count": 4,
     "metadata": {},
     "output_type": "execute_result"
    }
   ],
   "source": [
    "arr2=np.arange(60)\n",
    "arr2"
   ]
  },
  {
   "cell_type": "code",
   "execution_count": 5,
   "metadata": {},
   "outputs": [
    {
     "data": {
      "text/plain": [
       "array([  0,   2,   4,   6,   8,  10,  12,  14,  16,  18,  20,  22,  24,\n",
       "        26,  28,  30,  32,  34,  36,  38,  40,  42,  44,  46,  48,  50,\n",
       "        52,  54,  56,  58,  60,  62,  64,  66,  68,  70,  72,  74,  76,\n",
       "        78,  80,  82,  84,  86,  88,  90,  92,  94,  96,  98, 100])"
      ]
     },
     "execution_count": 5,
     "metadata": {},
     "output_type": "execute_result"
    }
   ],
   "source": [
    "arr2=np.arange(0,101,2)       # range(startin,stoping,jumping)\n",
    "arr2"
   ]
  },
  {
   "cell_type": "code",
   "execution_count": 6,
   "metadata": {},
   "outputs": [
    {
     "data": {
      "text/plain": [
       "51"
      ]
     },
     "execution_count": 6,
     "metadata": {},
     "output_type": "execute_result"
    }
   ],
   "source": [
    "len(arr2)"
   ]
  },
  {
   "cell_type": "code",
   "execution_count": 7,
   "metadata": {},
   "outputs": [
    {
     "data": {
      "text/plain": [
       "array([1., 1., 1., 1., 1., 1., 1., 1., 1., 1.])"
      ]
     },
     "execution_count": 7,
     "metadata": {},
     "output_type": "execute_result"
    }
   ],
   "source": [
    "# to craete multiple same  values as we give commands \n",
    "\n",
    "np.ones(10)"
   ]
  },
  {
   "cell_type": "code",
   "execution_count": 8,
   "metadata": {},
   "outputs": [
    {
     "data": {
      "text/plain": [
       "array([0., 0., 0., 0., 0., 0., 0., 0., 0., 0.])"
      ]
     },
     "execution_count": 8,
     "metadata": {},
     "output_type": "execute_result"
    }
   ],
   "source": [
    "np.zeros(10)"
   ]
  },
  {
   "cell_type": "code",
   "execution_count": 10,
   "metadata": {},
   "outputs": [
    {
     "data": {
      "text/plain": [
       "array([ 1.        ,  6.44444444, 11.88888889, 17.33333333, 22.77777778,\n",
       "       28.22222222, 33.66666667, 39.11111111, 44.55555556, 50.        ])"
      ]
     },
     "execution_count": 10,
     "metadata": {},
     "output_type": "execute_result"
    }
   ],
   "source": [
    "np.linspace(1,50,10)    # in bettween 1 to 50 , item 20"
   ]
  },
  {
   "cell_type": "code",
   "execution_count": 12,
   "metadata": {},
   "outputs": [
    {
     "data": {
      "text/plain": [
       "array([254,  90, 123, 234, 121,  93, 158, 266, 175,  85,  39, 185, 227,\n",
       "        82,  87,  66,  73,  40, 103, 240,  11, 296,  28, 205,  10, 155,\n",
       "       161, 219, 113, 225, 179, 143, 172, 216,  42, 298,  95, 240, 213,\n",
       "        57,  22,  78, 185, 184, 171,  83,  93,  40, 294, 292, 218, 136,\n",
       "        14, 269, 121, 155, 224, 262, 118,  39, 119,  88, 286, 150, 291,\n",
       "       129, 197, 266, 291,  59,  40, 121,   1, 126, 162,   8, 100, 142,\n",
       "        79,  14, 284, 206, 253, 142, 293, 122,  22,  97, 134, 292, 102,\n",
       "       273, 195,  27, 183, 282, 128, 233, 214,  43,  62,  81,   1,  89,\n",
       "       251,  28, 257,   7,  47, 289, 157,  20, 214, 220, 166, 219,  71,\n",
       "       287, 157, 249, 178, 224, 152, 241, 268, 176, 146, 292, 120, 175,\n",
       "       258, 178,  94, 265, 284, 100, 117, 199, 208,   1,  63,  13, 283,\n",
       "       152,  11,  74, 193, 195, 140, 281, 204, 262,  72, 138, 225, 225,\n",
       "        13,  54, 179, 140, 171, 185,  31, 217, 202, 183, 263, 287, 147,\n",
       "       299, 206,  48, 218, 274,  42, 238,  99, 164, 228,  14, 110, 121,\n",
       "       139, 162, 285, 128, 156, 106,  16,  24, 133, 179, 221,  55, 169,\n",
       "        61, 287, 288, 102, 134, 224, 127, 117,  90, 166, 237, 174, 291,\n",
       "       297,  67,  99, 265, 110,   8,  19, 110, 150,  46, 194,  51, 206,\n",
       "       202,  71, 131, 200, 100,  79, 162, 270, 246,  90,  32, 155, 148,\n",
       "       283, 183, 133,  66, 195, 185, 161,  47,  30, 212, 273,  63, 298,\n",
       "        10,  31, 190, 127, 120,  74, 105, 136,   1,  50, 147, 112, 258,\n",
       "       239, 217, 184, 236, 167, 139, 209,  37, 232,  19,  61, 169,  48,\n",
       "        67,   3, 228, 239,  15, 157, 166, 234, 285, 276, 145,  61,  88,\n",
       "       117,  79, 216,  82, 207, 242,  83, 241, 175, 167, 231, 177, 191,\n",
       "       204,  58,  82, 263,  68, 146, 244, 125,  56, 109, 194,  68,  52,\n",
       "       197,  82, 130, 136,  60, 190,  44, 205, 191, 200, 173, 253, 112,\n",
       "        18,  19, 289,  90, 141,  13,  47, 151, 105, 195, 149,  12, 214,\n",
       "        52, 299, 198,  13, 162, 270, 213,  14, 165, 136, 107,  31,  22,\n",
       "       244, 149,  43, 197, 299, 298,  31,  86,  96, 291, 106,  40,  87,\n",
       "        18, 150, 130, 116, 200, 190,  70, 148, 277, 207,  35, 171,  74,\n",
       "       163, 282,  80,   8,  97,  11, 271,  12, 136, 253, 229, 204,  68,\n",
       "       191,  99,  49, 135, 299, 245,  89,  11, 290, 266,  23, 198, 298,\n",
       "       266, 279,   3, 215,  85, 189,  13, 298, 185, 159, 132,  74, 234,\n",
       "        50, 167, 106, 261, 180, 293, 281, 177, 155,  94,  37, 282, 150,\n",
       "       147,  15, 288, 124, 231, 258,  32,  91, 203,  37, 176,  34, 299,\n",
       "        69, 133,  85,  60, 249, 195, 299, 223,   3,  73, 274, 276,  11,\n",
       "       264, 216, 283, 108, 204, 201,  94, 178,  20, 144, 260,  42, 212,\n",
       "       233, 283, 143,  99, 285,  30, 185, 154, 228, 124,  14,   7,  20,\n",
       "        19, 149, 198, 161,  11, 174,  44, 151, 253,   8, 268,  87, 176,\n",
       "       177, 295, 186, 151, 253,  16], dtype=int32)"
      ]
     },
     "execution_count": 12,
     "metadata": {},
     "output_type": "execute_result"
    }
   ],
   "source": [
    "arr = np.random.randint(1,300,500)   # in between 1 - 300 items ==> 500\n",
    "arr"
   ]
  },
  {
   "cell_type": "code",
   "execution_count": 13,
   "metadata": {},
   "outputs": [
    {
     "data": {
      "text/plain": [
       "500"
      ]
     },
     "execution_count": 13,
     "metadata": {},
     "output_type": "execute_result"
    }
   ],
   "source": [
    "arr.size"
   ]
  },
  {
   "cell_type": "code",
   "execution_count": 34,
   "metadata": {},
   "outputs": [
    {
     "name": "stdout",
     "output_type": "stream",
     "text": [
      "39\n",
      "66\n",
      "40\n",
      "11\n",
      "28\n",
      "10\n",
      "42\n",
      "57\n",
      "22\n",
      "40\n",
      "14\n",
      "39\n",
      "59\n",
      "40\n",
      "1\n",
      "8\n",
      "14\n",
      "22\n",
      "27\n",
      "43\n",
      "62\n",
      "1\n",
      "28\n",
      "7\n",
      "47\n",
      "20\n",
      "1\n",
      "63\n",
      "13\n",
      "11\n",
      "13\n",
      "54\n",
      "31\n",
      "48\n",
      "42\n",
      "14\n",
      "16\n",
      "24\n",
      "55\n",
      "61\n",
      "67\n",
      "8\n",
      "19\n",
      "46\n",
      "51\n",
      "32\n",
      "66\n",
      "47\n",
      "30\n",
      "63\n",
      "10\n",
      "31\n",
      "1\n",
      "50\n",
      "37\n",
      "19\n",
      "61\n",
      "48\n",
      "67\n",
      "3\n",
      "15\n",
      "61\n",
      "58\n",
      "68\n",
      "56\n",
      "68\n",
      "52\n",
      "60\n",
      "44\n",
      "18\n",
      "19\n",
      "13\n",
      "47\n",
      "12\n",
      "52\n",
      "13\n",
      "14\n",
      "31\n",
      "22\n",
      "43\n",
      "31\n",
      "40\n",
      "18\n",
      "70\n",
      "35\n",
      "8\n",
      "11\n",
      "12\n",
      "68\n",
      "49\n",
      "11\n",
      "23\n",
      "3\n",
      "13\n",
      "50\n",
      "37\n",
      "15\n",
      "32\n",
      "37\n",
      "34\n",
      "69\n",
      "60\n",
      "3\n",
      "11\n",
      "20\n",
      "42\n",
      "30\n",
      "14\n",
      "7\n",
      "20\n",
      "19\n",
      "11\n",
      "44\n",
      "8\n",
      "16\n",
      "no of item:  115\n"
     ]
    }
   ],
   "source": [
    "#for loop in numpy\n",
    "\n",
    "count=0\n",
    "for item in arr:\n",
    "    if item <= 70:\n",
    "        count +=1\n",
    "        print(item)\n",
    "print(\"no of item: \",count)"
   ]
  },
  {
   "cell_type": "code",
   "execution_count": 35,
   "metadata": {},
   "outputs": [
    {
     "data": {
      "text/plain": [
       "array([39, 66, 40, 11, 28, 10, 42, 57, 22, 40, 14, 39, 59, 40,  1,  8, 14,\n",
       "       22, 27, 43, 62,  1, 28,  7, 47, 20,  1, 63, 13, 11, 13, 54, 31, 48,\n",
       "       42, 14, 16, 24, 55, 61, 67,  8, 19, 46, 51, 32, 66, 47, 30, 63, 10,\n",
       "       31,  1, 50, 37, 19, 61, 48, 67,  3, 15, 61, 58, 68, 56, 68, 52, 60,\n",
       "       44, 18, 19, 13, 47, 12, 52, 13, 14, 31, 22, 43, 31, 40, 18, 70, 35,\n",
       "        8, 11, 12, 68, 49, 11, 23,  3, 13, 50, 37, 15, 32, 37, 34, 69, 60,\n",
       "        3, 11, 20, 42, 30, 14,  7, 20, 19, 11, 44,  8, 16], dtype=int32)"
      ]
     },
     "execution_count": 35,
     "metadata": {},
     "output_type": "execute_result"
    }
   ],
   "source": [
    "arr[arr<=70]"
   ]
  },
  {
   "cell_type": "code",
   "execution_count": 36,
   "metadata": {},
   "outputs": [
    {
     "data": {
      "text/plain": [
       "115"
      ]
     },
     "execution_count": 36,
     "metadata": {},
     "output_type": "execute_result"
    }
   ],
   "source": [
    "arr[arr<=70].size        ## using numpy"
   ]
  },
  {
   "cell_type": "code",
   "execution_count": 8,
   "metadata": {},
   "outputs": [
    {
     "data": {
      "text/plain": [
       "1"
      ]
     },
     "execution_count": 8,
     "metadata": {},
     "output_type": "execute_result"
    }
   ],
   "source": [
    "arr.ndim  #n dimensional procedure"
   ]
  },
  {
   "cell_type": "code",
   "execution_count": 9,
   "metadata": {},
   "outputs": [
    {
     "data": {
      "text/plain": [
       "array([ 25,  14,  36,  78,  46,  98, 758,  79, 665,  55])"
      ]
     },
     "execution_count": 9,
     "metadata": {},
     "output_type": "execute_result"
    }
   ],
   "source": [
    "## <<< 2D array ...>>>> async\n",
    "\n",
    "arr"
   ]
  },
  {
   "cell_type": "code",
   "execution_count": 10,
   "metadata": {},
   "outputs": [
    {
     "data": {
      "text/plain": [
       "list"
      ]
     },
     "execution_count": 10,
     "metadata": {},
     "output_type": "execute_result"
    }
   ],
   "source": [
    "# 2D [1D,1D,1D,1D]\n",
    "\n",
    "lst=[[1,2,3],[4,5,6],[7,8,9]]\n",
    "type(lst)"
   ]
  },
  {
   "cell_type": "code",
   "execution_count": 11,
   "metadata": {},
   "outputs": [],
   "source": [
    "import numpy as np"
   ]
  },
  {
   "cell_type": "code",
   "execution_count": 12,
   "metadata": {},
   "outputs": [
    {
     "data": {
      "text/plain": [
       "array([[1, 2, 3],\n",
       "       [4, 5, 6],\n",
       "       [7, 8, 9]])"
      ]
     },
     "execution_count": 12,
     "metadata": {},
     "output_type": "execute_result"
    }
   ],
   "source": [
    "arr = np.array(lst)\n",
    "arr"
   ]
  },
  {
   "cell_type": "code",
   "execution_count": 13,
   "metadata": {},
   "outputs": [
    {
     "data": {
      "text/plain": [
       "(3, 3)"
      ]
     },
     "execution_count": 13,
     "metadata": {},
     "output_type": "execute_result"
    }
   ],
   "source": [
    "arr.shape     # (row,column)"
   ]
  },
  {
   "cell_type": "code",
   "execution_count": 14,
   "metadata": {},
   "outputs": [
    {
     "data": {
      "text/plain": [
       "2"
      ]
     },
     "execution_count": 14,
     "metadata": {},
     "output_type": "execute_result"
    }
   ],
   "source": [
    "arr.ndim"
   ]
  },
  {
   "cell_type": "code",
   "execution_count": 15,
   "metadata": {},
   "outputs": [
    {
     "data": {
      "text/plain": [
       "array([1, 2, 3])"
      ]
     },
     "execution_count": 15,
     "metadata": {},
     "output_type": "execute_result"
    }
   ],
   "source": [
    "arr[0]"
   ]
  },
  {
   "cell_type": "code",
   "execution_count": 16,
   "metadata": {},
   "outputs": [
    {
     "data": {
      "text/plain": [
       "array([4, 5, 6])"
      ]
     },
     "execution_count": 16,
     "metadata": {},
     "output_type": "execute_result"
    }
   ],
   "source": [
    "arr[1]"
   ]
  },
  {
   "cell_type": "code",
   "execution_count": 17,
   "metadata": {},
   "outputs": [
    {
     "data": {
      "text/plain": [
       "array([7, 8, 9])"
      ]
     },
     "execution_count": 17,
     "metadata": {},
     "output_type": "execute_result"
    }
   ],
   "source": [
    "arr[2]    # single row"
   ]
  },
  {
   "cell_type": "code",
   "execution_count": 18,
   "metadata": {},
   "outputs": [
    {
     "data": {
      "text/plain": [
       "array([[1, 2, 3],\n",
       "       [4, 5, 6]])"
      ]
     },
     "execution_count": 18,
     "metadata": {},
     "output_type": "execute_result"
    }
   ],
   "source": [
    "arr[0:2]     # multiple row"
   ]
  },
  {
   "cell_type": "code",
   "execution_count": 22,
   "metadata": {},
   "outputs": [
    {
     "data": {
      "text/plain": [
       "array([[5, 6],\n",
       "       [8, 9]])"
      ]
     },
     "execution_count": 22,
     "metadata": {},
     "output_type": "execute_result"
    }
   ],
   "source": [
    "arr[1:3 ,1:3]"
   ]
  },
  {
   "cell_type": "code",
   "execution_count": 32,
   "metadata": {},
   "outputs": [
    {
     "data": {
      "text/plain": [
       "array([[ 42,  77,   7, 140, 138, 165],\n",
       "       [ 39, 176,  24, 144,  34,  32],\n",
       "       [ 34, 146,  31, 196,  97, 176],\n",
       "       [114,   2, 162,  27,  42,  54],\n",
       "       [ 90,  29,  17,  20, 177, 111],\n",
       "       [ 27, 140,  59,  76, 195,  92],\n",
       "       [182,  10, 139,  10, 113, 119],\n",
       "       [178,  64,  54, 109,  99, 124],\n",
       "       [ 53, 146,  17, 179, 104,  74],\n",
       "       [ 26,  83,  88, 191, 126,  28]], dtype=int32)"
      ]
     },
     "execution_count": 32,
     "metadata": {},
     "output_type": "execute_result"
    }
   ],
   "source": [
    "#for random array representing\n",
    "\n",
    "arr2=np.random.randint(1,200,(10,6))\n",
    "arr2"
   ]
  },
  {
   "cell_type": "code",
   "execution_count": 26,
   "metadata": {},
   "outputs": [
    {
     "data": {
      "text/plain": [
       "array([[123,  46, 123,  37, 135,  24],\n",
       "       [ 83,  99,  10, 110, 151,  76],\n",
       "       [103,  85,  23, 181, 120,  55],\n",
       "       [ 74,  49,  72, 179, 178, 140],\n",
       "       [118, 169,  56, 151, 179, 173]], dtype=int32)"
      ]
     },
     "execution_count": 26,
     "metadata": {},
     "output_type": "execute_result"
    }
   ],
   "source": [
    "arr2[4:9]"
   ]
  },
  {
   "cell_type": "code",
   "execution_count": 27,
   "metadata": {},
   "outputs": [
    {
     "data": {
      "text/plain": [
       "array([[ 37, 135,  24],\n",
       "       [110, 151,  76],\n",
       "       [181, 120,  55],\n",
       "       [179, 178, 140],\n",
       "       [151, 179, 173]], dtype=int32)"
      ]
     },
     "execution_count": 27,
     "metadata": {},
     "output_type": "execute_result"
    }
   ],
   "source": [
    "arr2[4:9,3:6]"
   ]
  },
  {
   "cell_type": "code",
   "execution_count": 30,
   "metadata": {},
   "outputs": [
    {
     "data": {
      "text/plain": [
       "array([[ 32, 144],\n",
       "       [185,   9],\n",
       "       [143, 115],\n",
       "       [129,  80],\n",
       "       [ 46, 123],\n",
       "       [ 99,  10],\n",
       "       [ 85,  23],\n",
       "       [ 49,  72],\n",
       "       [169,  56],\n",
       "       [164, 151]], dtype=int32)"
      ]
     },
     "execution_count": 30,
     "metadata": {},
     "output_type": "execute_result"
    }
   ],
   "source": [
    "arr2[:,1:3]"
   ]
  },
  {
   "cell_type": "code",
   "execution_count": 38,
   "metadata": {},
   "outputs": [
    {
     "data": {
      "text/plain": [
       "array([[ 20, 177, 111],\n",
       "       [ 76, 195,  92],\n",
       "       [ 10, 113, 119],\n",
       "       [109,  99, 124],\n",
       "       [179, 104,  74]], dtype=int32)"
      ]
     },
     "execution_count": 38,
     "metadata": {},
     "output_type": "execute_result"
    }
   ],
   "source": [
    "arr2[-6:-1,-3:]"
   ]
  },
  {
   "cell_type": "code",
   "execution_count": 40,
   "metadata": {},
   "outputs": [
    {
     "data": {
      "text/plain": [
       "array([[ 28, 126, 191,  88,  83,  26],\n",
       "       [ 74, 104, 179,  17, 146,  53],\n",
       "       [124,  99, 109,  54,  64, 178],\n",
       "       [119, 113,  10, 139,  10, 182],\n",
       "       [ 92, 195,  76,  59, 140,  27],\n",
       "       [111, 177,  20,  17,  29,  90],\n",
       "       [ 54,  42,  27, 162,   2, 114],\n",
       "       [176,  97, 196,  31, 146,  34],\n",
       "       [ 32,  34, 144,  24, 176,  39],\n",
       "       [165, 138, 140,   7,  77,  42]], dtype=int32)"
      ]
     },
     "execution_count": 40,
     "metadata": {},
     "output_type": "execute_result"
    }
   ],
   "source": [
    "arr2[::-1,::-1]"
   ]
  },
  {
   "cell_type": "code",
   "execution_count": 41,
   "metadata": {},
   "outputs": [
    {
     "data": {
      "text/plain": [
       "array([[ 90,  29],\n",
       "       [ 27, 140]], dtype=int32)"
      ]
     },
     "execution_count": 41,
     "metadata": {},
     "output_type": "execute_result"
    }
   ],
   "source": [
    "arr2[-6:-4,-6:-4]"
   ]
  },
  {
   "cell_type": "code",
   "execution_count": 44,
   "metadata": {},
   "outputs": [
    {
     "data": {
      "text/plain": [
       "array([[28]], dtype=int32)"
      ]
     },
     "execution_count": 44,
     "metadata": {},
     "output_type": "execute_result"
    }
   ],
   "source": [
    "arr2[-1:,-1:]"
   ]
  },
  {
   "cell_type": "code",
   "execution_count": 45,
   "metadata": {},
   "outputs": [],
   "source": [
    "arr2[-1,-1]=1000"
   ]
  },
  {
   "cell_type": "code",
   "execution_count": 46,
   "metadata": {},
   "outputs": [
    {
     "data": {
      "text/plain": [
       "np.int32(1000)"
      ]
     },
     "execution_count": 46,
     "metadata": {},
     "output_type": "execute_result"
    }
   ],
   "source": [
    "arr2[-1,-1]"
   ]
  },
  {
   "cell_type": "code",
   "execution_count": 47,
   "metadata": {},
   "outputs": [
    {
     "data": {
      "text/plain": [
       "array([[  42,   77,    7,  140,  138,  165],\n",
       "       [  39,  176,   24,  144,   34,   32],\n",
       "       [  34,  146,   31,  196,   97,  176],\n",
       "       [ 114,    2,  162,   27,   42,   54],\n",
       "       [  90,   29,   17,   20,  177,  111],\n",
       "       [  27,  140,   59,   76,  195,   92],\n",
       "       [ 182,   10,  139,   10,  113,  119],\n",
       "       [ 178,   64,   54,  109,   99,  124],\n",
       "       [  53,  146,   17,  179,  104,   74],\n",
       "       [  26,   83,   88,  191,  126, 1000]], dtype=int32)"
      ]
     },
     "execution_count": 47,
     "metadata": {},
     "output_type": "execute_result"
    }
   ],
   "source": [
    "arr2"
   ]
  },
  {
   "cell_type": "code",
   "execution_count": 52,
   "metadata": {},
   "outputs": [],
   "source": [
    "arr2[0,3]=5000"
   ]
  },
  {
   "cell_type": "code",
   "execution_count": 53,
   "metadata": {},
   "outputs": [
    {
     "data": {
      "text/plain": [
       "array([[  42,   77,    7, 5000,  138,  165],\n",
       "       [  39,  176,   24,  144,   34,   32],\n",
       "       [  34,  146,   31,  196,   97,  176],\n",
       "       [ 114,    2,  162,   27,   42,   54],\n",
       "       [  90,   29,   17,   20,  177,  111],\n",
       "       [  27,  140,   59,   76,  195,   92],\n",
       "       [ 182,   10,  139,   10,  113,  119],\n",
       "       [ 178,   64,   54,  109,   99,  124],\n",
       "       [  53,  146,   17,  179,  104,   74],\n",
       "       [  26,   83,   88,  191,  126, 1000]], dtype=int32)"
      ]
     },
     "execution_count": 53,
     "metadata": {},
     "output_type": "execute_result"
    }
   ],
   "source": [
    "arr2"
   ]
  },
  {
   "cell_type": "code",
   "execution_count": 54,
   "metadata": {},
   "outputs": [],
   "source": [
    "arr2[-10,-3]=500"
   ]
  },
  {
   "cell_type": "code",
   "execution_count": 55,
   "metadata": {},
   "outputs": [
    {
     "data": {
      "text/plain": [
       "array([[  42,   77,    7,  500,  138,  165],\n",
       "       [  39,  176,   24,  144,   34,   32],\n",
       "       [  34,  146,   31,  196,   97,  176],\n",
       "       [ 114,    2,  162,   27,   42,   54],\n",
       "       [  90,   29,   17,   20,  177,  111],\n",
       "       [  27,  140,   59,   76,  195,   92],\n",
       "       [ 182,   10,  139,   10,  113,  119],\n",
       "       [ 178,   64,   54,  109,   99,  124],\n",
       "       [  53,  146,   17,  179,  104,   74],\n",
       "       [  26,   83,   88,  191,  126, 1000]], dtype=int32)"
      ]
     },
     "execution_count": 55,
     "metadata": {},
     "output_type": "execute_result"
    }
   ],
   "source": [
    "arr2"
   ]
  },
  {
   "cell_type": "code",
   "execution_count": 56,
   "metadata": {},
   "outputs": [
    {
     "data": {
      "text/plain": [
       "array([[  42,   77,    7, 8000,  138,  165],\n",
       "       [  39,  176,   24,  144,   34,   32],\n",
       "       [  34,  146,   31,  196,   97,  176],\n",
       "       [ 114,    2,  162,   27,   42,   54],\n",
       "       [  90,   29,   17,   20,  177,  111],\n",
       "       [  27,  140,   59,   76,  195,   92],\n",
       "       [ 182,   10,  139,   10,  113,  119],\n",
       "       [ 178,   64,   54,  109,   99,  124],\n",
       "       [  53,  146,   17,  179,  104,   74],\n",
       "       [  26,   83,   88,  191,  126, 1000]], dtype=int32)"
      ]
     },
     "execution_count": 56,
     "metadata": {},
     "output_type": "execute_result"
    }
   ],
   "source": [
    "arr2[0][3]=8000\n",
    "arr2"
   ]
  },
  {
   "cell_type": "code",
   "execution_count": 2,
   "metadata": {},
   "outputs": [],
   "source": [
    "## <<<  3D..... >>>\n",
    "\n",
    "\n",
    "import numpy as np\n"
   ]
  },
  {
   "cell_type": "code",
   "execution_count": 5,
   "metadata": {},
   "outputs": [
    {
     "data": {
      "text/plain": [
       "array([[[ 66, 125,  66, 129,  32],\n",
       "        [137, 113, 101, 114,  42],\n",
       "        [199,  28, 136, 120, 162],\n",
       "        [ 99, 138, 139,  18,  29],\n",
       "        [ 94,  52,  97, 146, 185],\n",
       "        [  8, 124,  63, 140,  26],\n",
       "        [ 56, 181, 150,  56, 108],\n",
       "        [102, 180, 155,  21,  31],\n",
       "        [135, 175,  44,  38, 130],\n",
       "        [  1, 126,  39,  22, 125]],\n",
       "\n",
       "       [[186,  11,  85, 179,  60],\n",
       "        [ 84,  26,  56,  56, 110],\n",
       "        [ 89, 119,   7,  59, 162],\n",
       "        [121, 186, 184, 146, 138],\n",
       "        [140, 109,  63, 123,  35],\n",
       "        [ 92,  35,  43,  34, 143],\n",
       "        [183, 106, 124,  43, 168],\n",
       "        [168, 192, 104, 129, 162],\n",
       "        [109, 190,  44, 151, 183],\n",
       "        [173, 129,  45,  34, 141]],\n",
       "\n",
       "       [[ 96, 177, 121, 192, 190],\n",
       "        [170, 146, 135, 135, 198],\n",
       "        [153,  43, 128, 158,  87],\n",
       "        [ 95, 120,  74, 100, 193],\n",
       "        [ 80, 180, 100,  24, 148],\n",
       "        [120,  82, 195,  64, 188],\n",
       "        [129, 198, 141,  98,  61],\n",
       "        [196, 199,  74,  11,   7],\n",
       "        [104, 114,  73, 156,  50],\n",
       "        [  5,  51,  83, 135, 120]],\n",
       "\n",
       "       [[ 98, 164,  98, 191, 122],\n",
       "        [ 95,  59,   4, 151, 138],\n",
       "        [122,  13, 130,  82, 134],\n",
       "        [  3, 126,  19, 164,   2],\n",
       "        [ 37, 116,  85,   6, 148],\n",
       "        [ 21,  81,  26, 137,  86],\n",
       "        [104, 139,  49,  58,  74],\n",
       "        [ 14, 150, 165, 188,  48],\n",
       "        [  6, 130,  40,  55,  32],\n",
       "        [182,  40,  85,  62,  81]],\n",
       "\n",
       "       [[ 34,  24, 155, 132,   3],\n",
       "        [180,  59, 160, 108,   1],\n",
       "        [121,  79,  76,   5, 146],\n",
       "        [ 13, 109,   1, 163,  60],\n",
       "        [192,  39,  97, 131, 112],\n",
       "        [187, 126, 160, 173, 172],\n",
       "        [177,  84,  39, 184, 195],\n",
       "        [ 95,  13, 158,  46, 188],\n",
       "        [147, 168,  47,   9, 103],\n",
       "        [ 67, 111, 142,  51, 165]]], dtype=int32)"
      ]
     },
     "execution_count": 5,
     "metadata": {},
     "output_type": "execute_result"
    }
   ],
   "source": [
    "# 3D =[2d,2d,2d,2d]\n",
    "\n",
    "arr3d=np.random.randint(1,200,(5,10,5))\n",
    "arr3d"
   ]
  },
  {
   "cell_type": "code",
   "execution_count": 6,
   "metadata": {},
   "outputs": [
    {
     "data": {
      "text/plain": [
       "(5, 10, 5)"
      ]
     },
     "execution_count": 6,
     "metadata": {},
     "output_type": "execute_result"
    }
   ],
   "source": [
    "arr3d.shape\n",
    "#(5,10,5)\n",
    "# 5 ==> tables\n",
    "# 10 ==> row\n",
    "# 5 ==> coloumn"
   ]
  },
  {
   "cell_type": "code",
   "execution_count": 7,
   "metadata": {},
   "outputs": [
    {
     "data": {
      "text/plain": [
       "3"
      ]
     },
     "execution_count": 7,
     "metadata": {},
     "output_type": "execute_result"
    }
   ],
   "source": [
    "arr3d.ndim"
   ]
  },
  {
   "cell_type": "code",
   "execution_count": 10,
   "metadata": {},
   "outputs": [
    {
     "data": {
      "text/plain": [
       "array([[ 66, 125,  66, 129,  32],\n",
       "       [137, 113, 101, 114,  42],\n",
       "       [199,  28, 136, 120, 162],\n",
       "       [ 99, 138, 139,  18,  29],\n",
       "       [ 94,  52,  97, 146, 185],\n",
       "       [  8, 124,  63, 140,  26],\n",
       "       [ 56, 181, 150,  56, 108],\n",
       "       [102, 180, 155,  21,  31],\n",
       "       [135, 175,  44,  38, 130],\n",
       "       [  1, 126,  39,  22, 125]], dtype=int32)"
      ]
     },
     "execution_count": 10,
     "metadata": {},
     "output_type": "execute_result"
    }
   ],
   "source": [
    "arr3d[0]      # table\n"
   ]
  },
  {
   "cell_type": "code",
   "execution_count": 11,
   "metadata": {},
   "outputs": [
    {
     "data": {
      "text/plain": [
       "array([[[ 66, 125,  66, 129,  32],\n",
       "        [137, 113, 101, 114,  42],\n",
       "        [199,  28, 136, 120, 162],\n",
       "        [ 99, 138, 139,  18,  29],\n",
       "        [ 94,  52,  97, 146, 185],\n",
       "        [  8, 124,  63, 140,  26],\n",
       "        [ 56, 181, 150,  56, 108],\n",
       "        [102, 180, 155,  21,  31],\n",
       "        [135, 175,  44,  38, 130],\n",
       "        [  1, 126,  39,  22, 125]],\n",
       "\n",
       "       [[186,  11,  85, 179,  60],\n",
       "        [ 84,  26,  56,  56, 110],\n",
       "        [ 89, 119,   7,  59, 162],\n",
       "        [121, 186, 184, 146, 138],\n",
       "        [140, 109,  63, 123,  35],\n",
       "        [ 92,  35,  43,  34, 143],\n",
       "        [183, 106, 124,  43, 168],\n",
       "        [168, 192, 104, 129, 162],\n",
       "        [109, 190,  44, 151, 183],\n",
       "        [173, 129,  45,  34, 141]]], dtype=int32)"
      ]
     },
     "execution_count": 11,
     "metadata": {},
     "output_type": "execute_result"
    }
   ],
   "source": [
    "arr3d[0:2]       # for table"
   ]
  },
  {
   "cell_type": "code",
   "execution_count": 14,
   "metadata": {},
   "outputs": [
    {
     "data": {
      "text/plain": [
       "array([[183, 106, 124,  43, 168],\n",
       "       [168, 192, 104, 129, 162],\n",
       "       [109, 190,  44, 151, 183],\n",
       "       [173, 129,  45,  34, 141]], dtype=int32)"
      ]
     },
     "execution_count": 14,
     "metadata": {},
     "output_type": "execute_result"
    }
   ],
   "source": [
    "arr3d[1,6:]"
   ]
  },
  {
   "cell_type": "code",
   "execution_count": 15,
   "metadata": {},
   "outputs": [
    {
     "data": {
      "text/plain": [
       "array([[[ 56, 181, 150,  56, 108],\n",
       "        [102, 180, 155,  21,  31],\n",
       "        [135, 175,  44,  38, 130],\n",
       "        [  1, 126,  39,  22, 125]],\n",
       "\n",
       "       [[183, 106, 124,  43, 168],\n",
       "        [168, 192, 104, 129, 162],\n",
       "        [109, 190,  44, 151, 183],\n",
       "        [173, 129,  45,  34, 141]],\n",
       "\n",
       "       [[129, 198, 141,  98,  61],\n",
       "        [196, 199,  74,  11,   7],\n",
       "        [104, 114,  73, 156,  50],\n",
       "        [  5,  51,  83, 135, 120]],\n",
       "\n",
       "       [[104, 139,  49,  58,  74],\n",
       "        [ 14, 150, 165, 188,  48],\n",
       "        [  6, 130,  40,  55,  32],\n",
       "        [182,  40,  85,  62,  81]],\n",
       "\n",
       "       [[177,  84,  39, 184, 195],\n",
       "        [ 95,  13, 158,  46, 188],\n",
       "        [147, 168,  47,   9, 103],\n",
       "        [ 67, 111, 142,  51, 165]]], dtype=int32)"
      ]
     },
     "execution_count": 15,
     "metadata": {},
     "output_type": "execute_result"
    }
   ],
   "source": [
    "arr3d[0:,6:]"
   ]
  },
  {
   "cell_type": "code",
   "execution_count": 16,
   "metadata": {},
   "outputs": [
    {
     "data": {
      "text/plain": [
       "array([[[  1, 126,  39,  22, 125]],\n",
       "\n",
       "       [[173, 129,  45,  34, 141]],\n",
       "\n",
       "       [[  5,  51,  83, 135, 120]],\n",
       "\n",
       "       [[182,  40,  85,  62,  81]],\n",
       "\n",
       "       [[ 67, 111, 142,  51, 165]]], dtype=int32)"
      ]
     },
     "execution_count": 16,
     "metadata": {},
     "output_type": "execute_result"
    }
   ],
   "source": [
    "arr3d[0:,-1:]"
   ]
  },
  {
   "cell_type": "code",
   "execution_count": 18,
   "metadata": {},
   "outputs": [
    {
     "data": {
      "text/plain": [
       "array([[[ 66, 125,  66, 129,  32],\n",
       "        [137, 113, 101, 114,  42],\n",
       "        [199,  28, 136, 120, 162],\n",
       "        [ 99, 138, 139,  18,  29],\n",
       "        [ 94,  52,  97, 146, 185],\n",
       "        [  8, 124,  63, 140,  26],\n",
       "        [ 56, 181, 150,  56, 108],\n",
       "        [102, 180, 155,  21,  31],\n",
       "        [135, 175,  44,  38, 130],\n",
       "        [  1, 126,  39,  22, 125]],\n",
       "\n",
       "       [[186,  11,  85, 179,  60],\n",
       "        [ 84,  26,  56,  56, 110],\n",
       "        [ 89, 119,   7,  59, 162],\n",
       "        [121, 186, 184, 146, 138],\n",
       "        [140, 109,  63, 123,  35],\n",
       "        [ 92,  35,  43,  34, 143],\n",
       "        [183, 106, 124,  43, 168],\n",
       "        [168, 192, 104, 129, 162],\n",
       "        [109, 190,  44, 151, 183],\n",
       "        [173, 129,  45,  34, 141]],\n",
       "\n",
       "       [[ 96, 177, 121, 192, 190],\n",
       "        [170, 146, 135, 135, 198],\n",
       "        [153,  43, 128, 158,  87],\n",
       "        [ 95, 120,  74, 100, 193],\n",
       "        [ 80, 180, 100,  24, 148],\n",
       "        [120,  82, 195,  64, 188],\n",
       "        [129, 198, 141,  98,  61],\n",
       "        [196, 199,  74,  11,   7],\n",
       "        [104, 114,  73, 156,  50],\n",
       "        [  5,  51,  83, 135, 120]],\n",
       "\n",
       "       [[ 98, 164,  98, 191, 122],\n",
       "        [ 95,  59,   4, 151, 138],\n",
       "        [122,  13, 130,  82, 134],\n",
       "        [  3, 126,  19, 164,   2],\n",
       "        [ 37, 116,  85,   6, 148],\n",
       "        [ 21,  81,  26, 137,  86],\n",
       "        [104, 139,  49,  58,  74],\n",
       "        [ 14, 150, 165, 188,  48],\n",
       "        [  6, 130,  40,  55,  32],\n",
       "        [182,  40,  85,  62,  81]],\n",
       "\n",
       "       [[ 34,  24, 155, 132,   3],\n",
       "        [180,  59, 160, 108,   1],\n",
       "        [121,  79,  76,   5, 146],\n",
       "        [ 13, 109,   1, 163,  60],\n",
       "        [192,  39,  97, 131, 112],\n",
       "        [187, 126, 160, 173, 172],\n",
       "        [177,  84,  39, 184, 195],\n",
       "        [ 95,  13, 158,  46, 188],\n",
       "        [147, 168,  47,   9, 103],\n",
       "        [ 67, 111, 142,  51, 500]]], dtype=int32)"
      ]
     },
     "execution_count": 18,
     "metadata": {},
     "output_type": "execute_result"
    }
   ],
   "source": [
    "arr3d[4,-1,-1]=500\n",
    "arr3d"
   ]
  },
  {
   "cell_type": "code",
   "execution_count": 22,
   "metadata": {},
   "outputs": [
    {
     "data": {
      "text/plain": [
       "array([ 0,  1,  2,  3,  4,  5,  6,  7,  8,  9, 10, 11, 12, 13, 14, 15, 16,\n",
       "       17, 18, 19, 20, 21, 22, 23, 24, 25, 26, 27, 28, 29, 30, 31, 32, 33,\n",
       "       34, 35, 36, 37, 38, 39, 40, 41, 42, 43, 44, 45, 46, 47, 48, 49, 50,\n",
       "       51, 52, 53, 54, 55, 56, 57, 58, 59])"
      ]
     },
     "execution_count": 22,
     "metadata": {},
     "output_type": "execute_result"
    }
   ],
   "source": [
    "arr=np.arange(60)\n",
    "arr"
   ]
  },
  {
   "cell_type": "code",
   "execution_count": 23,
   "metadata": {},
   "outputs": [
    {
     "data": {
      "text/plain": [
       "array([[ 0,  1,  2],\n",
       "       [ 3,  4,  5],\n",
       "       [ 6,  7,  8],\n",
       "       [ 9, 10, 11],\n",
       "       [12, 13, 14],\n",
       "       [15, 16, 17],\n",
       "       [18, 19, 20],\n",
       "       [21, 22, 23],\n",
       "       [24, 25, 26],\n",
       "       [27, 28, 29],\n",
       "       [30, 31, 32],\n",
       "       [33, 34, 35],\n",
       "       [36, 37, 38],\n",
       "       [39, 40, 41],\n",
       "       [42, 43, 44],\n",
       "       [45, 46, 47],\n",
       "       [48, 49, 50],\n",
       "       [51, 52, 53],\n",
       "       [54, 55, 56],\n",
       "       [57, 58, 59]])"
      ]
     },
     "execution_count": 23,
     "metadata": {},
     "output_type": "execute_result"
    }
   ],
   "source": [
    "arr.reshape(20,3)"
   ]
  },
  {
   "cell_type": "code",
   "execution_count": 27,
   "metadata": {},
   "outputs": [],
   "source": [
    "arr2 = arr.reshape(2,15,2)"
   ]
  },
  {
   "cell_type": "code",
   "execution_count": 29,
   "metadata": {},
   "outputs": [
    {
     "data": {
      "text/plain": [
       "array([[[ 0,  1],\n",
       "        [ 2,  3],\n",
       "        [ 4,  5],\n",
       "        [ 6,  7],\n",
       "        [ 8,  9],\n",
       "        [10, 11],\n",
       "        [12, 13],\n",
       "        [14, 15],\n",
       "        [16, 17],\n",
       "        [18, 19],\n",
       "        [20, 21],\n",
       "        [22, 23],\n",
       "        [24, 25],\n",
       "        [26, 27],\n",
       "        [28, 29]],\n",
       "\n",
       "       [[30, 31],\n",
       "        [32, 33],\n",
       "        [34, 35],\n",
       "        [36, 37],\n",
       "        [38, 39],\n",
       "        [40, 41],\n",
       "        [42, 43],\n",
       "        [44, 45],\n",
       "        [46, 47],\n",
       "        [48, 49],\n",
       "        [50, 51],\n",
       "        [52, 53],\n",
       "        [54, 55],\n",
       "        [56, 57],\n",
       "        [58, 59]]])"
      ]
     },
     "execution_count": 29,
     "metadata": {},
     "output_type": "execute_result"
    }
   ],
   "source": [
    "arr2"
   ]
  },
  {
   "cell_type": "code",
   "execution_count": 28,
   "metadata": {},
   "outputs": [
    {
     "data": {
      "text/plain": [
       "array([ 0,  1,  2,  3,  4,  5,  6,  7,  8,  9, 10, 11, 12, 13, 14, 15, 16,\n",
       "       17, 18, 19, 20, 21, 22, 23, 24, 25, 26, 27, 28, 29, 30, 31, 32, 33,\n",
       "       34, 35, 36, 37, 38, 39, 40, 41, 42, 43, 44, 45, 46, 47, 48, 49, 50,\n",
       "       51, 52, 53, 54, 55, 56, 57, 58, 59])"
      ]
     },
     "execution_count": 28,
     "metadata": {},
     "output_type": "execute_result"
    }
   ],
   "source": [
    "arr2.ravel()"
   ]
  },
  {
   "cell_type": "code",
   "execution_count": 31,
   "metadata": {},
   "outputs": [
    {
     "data": {
      "text/plain": [
       "array([ 0,  1,  2,  3,  4,  5,  6,  7,  8,  9, 10, 11, 12, 13, 14, 15, 16,\n",
       "       17, 18, 19, 20, 21, 22, 23, 24, 25, 26, 27, 28, 29, 30, 31, 32, 33,\n",
       "       34, 35, 36, 37, 38, 39, 40, 41, 42, 43, 44, 45, 46, 47, 48, 49, 50,\n",
       "       51, 52, 53, 54, 55, 56, 57, 58, 59])"
      ]
     },
     "execution_count": 31,
     "metadata": {},
     "output_type": "execute_result"
    }
   ],
   "source": [
    "arr2.flatten()"
   ]
  },
  {
   "cell_type": "code",
   "execution_count": 34,
   "metadata": {},
   "outputs": [
    {
     "data": {
      "text/plain": [
       "array([[132,  26,  34],\n",
       "       [113, 129,  63],\n",
       "       [129, 102, 192],\n",
       "       [134,  29,  19],\n",
       "       [113, 148, 162]], dtype=int32)"
      ]
     },
     "execution_count": 34,
     "metadata": {},
     "output_type": "execute_result"
    }
   ],
   "source": [
    "arr=np.random.randint(1,200,(5,3))\n",
    "arr"
   ]
  },
  {
   "cell_type": "code",
   "execution_count": 35,
   "metadata": {},
   "outputs": [
    {
     "data": {
      "text/plain": [
       "(5, 3)"
      ]
     },
     "execution_count": 35,
     "metadata": {},
     "output_type": "execute_result"
    }
   ],
   "source": [
    "arr.shape"
   ]
  },
  {
   "cell_type": "code",
   "execution_count": 36,
   "metadata": {},
   "outputs": [
    {
     "data": {
      "text/plain": [
       "array([[132, 113, 129, 134, 113],\n",
       "       [ 26, 129, 102,  29, 148],\n",
       "       [ 34,  63, 192,  19, 162]], dtype=int32)"
      ]
     },
     "execution_count": 36,
     "metadata": {},
     "output_type": "execute_result"
    }
   ],
   "source": [
    "np.transpose(arr)      # row change into coloumn and coloumn change into row"
   ]
  },
  {
   "cell_type": "code",
   "execution_count": 38,
   "metadata": {},
   "outputs": [
    {
     "data": {
      "text/plain": [
       "array([[132, 113, 129, 134, 113],\n",
       "       [ 26, 129, 102,  29, 148],\n",
       "       [ 34,  63, 192,  19, 162]], dtype=int32)"
      ]
     },
     "execution_count": 38,
     "metadata": {},
     "output_type": "execute_result"
    }
   ],
   "source": [
    "arr.T      # short form of transpose function"
   ]
  },
  {
   "cell_type": "code",
   "execution_count": 37,
   "metadata": {},
   "outputs": [
    {
     "data": {
      "text/plain": [
       "(5, 3)"
      ]
     },
     "execution_count": 37,
     "metadata": {},
     "output_type": "execute_result"
    }
   ],
   "source": [
    "arr.shape"
   ]
  },
  {
   "cell_type": "code",
   "execution_count": 39,
   "metadata": {},
   "outputs": [
    {
     "data": {
      "text/plain": [
       "array([132,  26,  34, 113, 129,  63, 129, 102, 192, 134,  29,  19, 113,\n",
       "       148, 162], dtype=int32)"
      ]
     },
     "execution_count": 39,
     "metadata": {},
     "output_type": "execute_result"
    }
   ],
   "source": [
    "#to convert 3d into 0ne dimensional\n",
    "\n",
    "arr2=arr.ravel()\n",
    "arr2"
   ]
  },
  {
   "cell_type": "code",
   "execution_count": 40,
   "metadata": {},
   "outputs": [
    {
     "data": {
      "text/plain": [
       "np.int32(19)"
      ]
     },
     "execution_count": 40,
     "metadata": {},
     "output_type": "execute_result"
    }
   ],
   "source": [
    "arr.min()                           #min value"
   ]
  },
  {
   "cell_type": "code",
   "execution_count": 41,
   "metadata": {},
   "outputs": [
    {
     "data": {
      "text/plain": [
       "np.int32(192)"
      ]
     },
     "execution_count": 41,
     "metadata": {},
     "output_type": "execute_result"
    }
   ],
   "source": [
    "arr.max()                             #max value"
   ]
  },
  {
   "cell_type": "code",
   "execution_count": 42,
   "metadata": {},
   "outputs": [
    {
     "data": {
      "text/plain": [
       "np.float64(101.66666666666667)"
      ]
     },
     "execution_count": 42,
     "metadata": {},
     "output_type": "execute_result"
    }
   ],
   "source": [
    "arr.mean()                        #average"
   ]
  },
  {
   "cell_type": "code",
   "execution_count": 44,
   "metadata": {},
   "outputs": [
    {
     "data": {
      "text/plain": [
       "np.float64(113.0)"
      ]
     },
     "execution_count": 44,
     "metadata": {},
     "output_type": "execute_result"
    }
   ],
   "source": [
    "np.median(arr2)                      #average"
   ]
  },
  {
   "cell_type": "code",
   "execution_count": 45,
   "metadata": {},
   "outputs": [
    {
     "data": {
      "text/plain": [
       "array([9, 7, 8])"
      ]
     },
     "execution_count": 45,
     "metadata": {},
     "output_type": "execute_result"
    }
   ],
   "source": [
    "arr = np.array([9,7,8])\n",
    "arr"
   ]
  },
  {
   "cell_type": "code",
   "execution_count": 48,
   "metadata": {},
   "outputs": [
    {
     "data": {
      "text/plain": [
       "np.int64(1)"
      ]
     },
     "execution_count": 48,
     "metadata": {},
     "output_type": "execute_result"
    }
   ],
   "source": [
    "arr.argmin()    # this is show acc. to (0,1,2,3) like that   ### index value show (or position)"
   ]
  },
  {
   "cell_type": "code",
   "execution_count": 49,
   "metadata": {},
   "outputs": [
    {
     "data": {
      "text/plain": [
       "np.int64(0)"
      ]
     },
     "execution_count": 49,
     "metadata": {},
     "output_type": "execute_result"
    }
   ],
   "source": [
    "arr.argmax()    ## same as argmin"
   ]
  },
  {
   "cell_type": "code",
   "execution_count": 51,
   "metadata": {},
   "outputs": [
    {
     "data": {
      "text/plain": [
       "array([7, 8, 9])"
      ]
     },
     "execution_count": 51,
     "metadata": {},
     "output_type": "execute_result"
    }
   ],
   "source": [
    "arr.sort()      ## assending order \n",
    "arr"
   ]
  },
  {
   "cell_type": "code",
   "execution_count": 52,
   "metadata": {},
   "outputs": [
    {
     "data": {
      "text/plain": [
       "array([9, 8, 7])"
      ]
     },
     "execution_count": 52,
     "metadata": {},
     "output_type": "execute_result"
    }
   ],
   "source": [
    "arr[::-1]           # desending with the help of reverse"
   ]
  },
  {
   "cell_type": "code",
   "execution_count": 53,
   "metadata": {},
   "outputs": [
    {
     "data": {
      "text/plain": [
       "array([0, 1, 2])"
      ]
     },
     "execution_count": 53,
     "metadata": {},
     "output_type": "execute_result"
    }
   ],
   "source": [
    "arr.argsort()       ##(7,8,9)"
   ]
  },
  {
   "cell_type": "code",
   "execution_count": null,
   "metadata": {},
   "outputs": [],
   "source": []
  }
 ],
 "metadata": {
  "kernelspec": {
   "display_name": "Python 3",
   "language": "python",
   "name": "python3"
  },
  "language_info": {
   "codemirror_mode": {
    "name": "ipython",
    "version": 3
   },
   "file_extension": ".py",
   "mimetype": "text/x-python",
   "name": "python",
   "nbconvert_exporter": "python",
   "pygments_lexer": "ipython3",
   "version": "3.12.4"
  }
 },
 "nbformat": 4,
 "nbformat_minor": 2
}
